{
 "cells": [
  {
   "cell_type": "markdown",
   "id": "b171292f-d930-44d8-9289-c6aab65badfc",
   "metadata": {},
   "source": [
    "# Stack Overflow Surveys"
   ]
  },
  {
   "cell_type": "markdown",
   "id": "3af6c4c3-e02a-4f86-9ab4-6bed3b085698",
   "metadata": {},
   "source": [
    "## 2. Data understanding"
   ]
  },
  {
   "cell_type": "markdown",
   "id": "c457a231-2a39-4368-a4d1-994c78657f91",
   "metadata": {},
   "source": [
    "### 2.1. Load datasets"
   ]
  },
  {
   "cell_type": "code",
   "execution_count": 1,
   "id": "197dd2aa-da82-49ae-b4b4-460d175f1079",
   "metadata": {},
   "outputs": [],
   "source": [
    "import numpy as np\n",
    "import pandas as pd\n",
    "\n",
    "import matplotlib as mpl\n",
    "import matplotlib.pyplot as plt\n",
    "from matplotlib.ticker import StrMethodFormatter\n",
    "plt.style.use('./style/minimal.mplstyle')\n",
    "%config InlineBackend.figure_format='retina'\n",
    "\n",
    "import warnings\n",
    "warnings.filterwarnings('ignore')"
   ]
  },
  {
   "cell_type": "code",
   "execution_count": 2,
   "id": "e00ca74c-daa7-40e1-9006-7d7de6618788",
   "metadata": {},
   "outputs": [],
   "source": [
    "pd.set_option('display.max_colwidth', None)\n",
    "pd.set_option('display.max_columns', None)"
   ]
  },
  {
   "cell_type": "code",
   "execution_count": null,
   "id": "75f0d085-0e80-4bf9-9fc7-781a5ca4e119",
   "metadata": {},
   "outputs": [],
   "source": [
    "root = 'data/zipped_folder/survey_results_public_'\n",
    "\n",
    "df_11 = pd.read_csv(root + '2011.csv', header=1, dtype=str)\n",
    "df_12 = pd.read_csv(root + '2012.csv', header=1, dtype=str)\n",
    "df_13 = pd.read_csv(root + '2013.csv', header=1, dtype=str)\n",
    "df_14 = pd.read_csv(root + '2014.csv', header=1, dtype=str)\n",
    "df_15 = pd.read_csv(root + '2015.csv', header=1, dtype=str)\n",
    "df_16 = pd.read_csv(root + '2016.csv')\n",
    "df_17 = pd.read_csv(root + '2017.csv')\n",
    "df_18 = pd.read_csv(root + '2018.csv')\n",
    "df_19 = pd.read_csv(root + '2019.csv')\n",
    "df_20 = pd.read_csv(root + '2020.csv')\n",
    "df_21 = pd.read_csv(root + '2021.csv')"
   ]
  },
  {
   "cell_type": "code",
   "execution_count": null,
   "id": "0bbebd41-f6c6-4e41-92be-586015d096d5",
   "metadata": {},
   "outputs": [],
   "source": [
    "df_21.head()"
   ]
  },
  {
   "cell_type": "markdown",
   "id": "0af03354-b99c-4199-8107-8d2cf27f09ca",
   "metadata": {},
   "source": [
    "### 2.2. Exploratory data analysis"
   ]
  },
  {
   "cell_type": "markdown",
   "id": "ec6e3216-dad9-44ff-b4d6-47c1f1218fa3",
   "metadata": {},
   "source": [
    "Selecting questions:\n",
    "\n",
    "1. How many caffeinated beverages per day?\n",
    "2. Tabs or spaces? (2015 and 2017)\n",
    "3. How much do you agree or disagree with the following statement? I want to go to Mars right now, even if there's a chance I never come back.\n",
    "4. Star Wars or Star Trek?\n",
    "5. Dogs or cats?\n",
    "6. Do you believe in aliens?\n",
    "7. How do you pronouce \"GIF\"?\n",
    "8. Are you the \"IT support person\" for your family?"
   ]
  },
  {
   "cell_type": "code",
   "execution_count": null,
   "id": "eb022e24-11d0-42d9-8df7-9bb2a1584d77",
   "metadata": {},
   "outputs": [],
   "source": [
    "# How many caffeinated beverages per day?\n",
    "q1 = df_15['How many caffeinated beverages per day?'].value_counts()\n",
    "q1"
   ]
  },
  {
   "cell_type": "code",
   "execution_count": null,
   "id": "15520417-80e0-4f3f-af50-af805eb7cb8f",
   "metadata": {},
   "outputs": [],
   "source": [
    "# Tabs or spaces?\n",
    "q2_15 = df_15['Tabs or Spaces'].value_counts()\n",
    "q2_15"
   ]
  },
  {
   "cell_type": "code",
   "execution_count": null,
   "id": "53335e48-3ec8-4cba-8435-e2b7b30b68cd",
   "metadata": {},
   "outputs": [],
   "source": [
    "# Tabs or spaces?\n",
    "q2_17 = df_17['TabsSpaces'].value_counts()\n",
    "q2_17"
   ]
  },
  {
   "cell_type": "code",
   "execution_count": null,
   "id": "d1df0db3-ccd2-4d06-ba75-e377fb844b59",
   "metadata": {},
   "outputs": [],
   "source": [
    "q2_15.rename('2015', inplace=True)\n",
    "q2_17.rename('2017', inplace=True)\n",
    "\n",
    "q2 = pd.concat([q2_15, q2_17], axis=1)\n",
    "q2"
   ]
  },
  {
   "cell_type": "code",
   "execution_count": null,
   "id": "b7c9daa4-ad4f-4e91-9b16-843b88f30c72",
   "metadata": {},
   "outputs": [],
   "source": [
    "# How much do you agree or disagree with the following statement?\n",
    "# I want to go to Mars right now, even if there's a chance I never come back.\n",
    "q3 = df_16['agree_mars'].value_counts()\n",
    "q3"
   ]
  },
  {
   "cell_type": "code",
   "execution_count": null,
   "id": "1d67ea6a-f920-42ba-bec1-6fc979e37e06",
   "metadata": {},
   "outputs": [],
   "source": [
    "# Star Wars or Star Trek?\n",
    "q4 = df_16['star_wars_vs_star_trek'].value_counts()\n",
    "q4"
   ]
  },
  {
   "cell_type": "code",
   "execution_count": null,
   "id": "d111feb9-b526-4d66-a1b1-3cb0f4a337eb",
   "metadata": {},
   "outputs": [],
   "source": [
    "# Dogs or cats?\n",
    "q5 = df_16['dogs_vs_cats'].value_counts()\n",
    "q5"
   ]
  },
  {
   "cell_type": "code",
   "execution_count": null,
   "id": "63feaadc-5375-432b-9f21-194fc543f72f",
   "metadata": {},
   "outputs": [],
   "source": [
    "# Do you believe in aliens?\n",
    "q6 = df_16['aliens'].value_counts()\n",
    "q6"
   ]
  },
  {
   "cell_type": "code",
   "execution_count": null,
   "id": "6227c7f7-0a99-4757-9966-e363b68f2ba0",
   "metadata": {},
   "outputs": [],
   "source": [
    "# How do you pronouce \"GIF\"?\n",
    "q7 = df_17['PronounceGIF'].value_counts()\n",
    "q7"
   ]
  },
  {
   "cell_type": "code",
   "execution_count": null,
   "id": "eebf7026-fa46-47ed-9da0-6c96be8dccab",
   "metadata": {},
   "outputs": [],
   "source": [
    "# Are you the \"IT support person\" for your family?\n",
    "q8 = df_19['ITperson'].value_counts()\n",
    "q8"
   ]
  },
  {
   "cell_type": "markdown",
   "id": "26b15b57-694d-4bff-8a53-34369de790c5",
   "metadata": {},
   "source": [
    "### 2.3. Null values"
   ]
  },
  {
   "cell_type": "code",
   "execution_count": null,
   "id": "804dd12a-83fe-4d92-8974-0a9bd26c2466",
   "metadata": {},
   "outputs": [],
   "source": [
    "dfs_columns = [(df_15, 'How many caffeinated beverages per day?'),\n",
    "               (df_15, 'Tabs or Spaces'),\n",
    "               (df_17, 'TabsSpaces'),\n",
    "               (df_16, 'agree_mars'),\n",
    "               (df_16, 'star_wars_vs_star_trek'),\n",
    "               (df_16, 'dogs_vs_cats'),\n",
    "               (df_16, 'aliens'),\n",
    "               (df_17, 'PronounceGIF'),\n",
    "               (df_19, 'ITperson')]"
   ]
  },
  {
   "cell_type": "code",
   "execution_count": null,
   "id": "a997ef97-9159-4955-9d8c-8f220e4bfacf",
   "metadata": {},
   "outputs": [],
   "source": [
    "space = '   '\n",
    "print('Respondents:'\n",
    "      + space\n",
    "      + 'Not nulls (abs):'\n",
    "      + space\n",
    "      + 'Nulls (abs):'\n",
    "      + space\n",
    "      + 'Nulls (per):'\n",
    "      + space\n",
    "      + 'Question:')\n",
    "\n",
    "for df, column in dfs_columns:\n",
    "    respondents = df.shape[0]\n",
    "    null_per = df[column].isnull().mean()\n",
    "    null_abs = respondents*null_per\n",
    "    not_null_abs = respondents - null_abs\n",
    "    \n",
    "    print(f'{respondents:>12,}'  # 12 is the length of 'Respondents:'\n",
    "          + space\n",
    "          + f'{not_null_abs:>16,.0f}'  # 16 is the length of 'Not nulls (abs):'\n",
    "          + space\n",
    "          + f'{null_abs:>12,.0f}'  # 12 is the length of 'Nulls (abs):'\n",
    "          + space\n",
    "          + f'{null_per:>12.2%}'  # 12 is the length of 'Nulls (per):'\n",
    "          + space\n",
    "          + f'{column}')"
   ]
  },
  {
   "cell_type": "markdown",
   "id": "9cfe997b-4a15-433e-b9ef-90a1c2922d2b",
   "metadata": {},
   "source": [
    "Some questions have a relatively high percentage of null values, like Star Wars vs. Star Trek, with 38% of nulls. However, the absolute number is still high enough (34,398 respondents, for the previous example) to provide representative descriptive statistics. Since any input method for the missing data would add a bias, the null values will just be removed."
   ]
  },
  {
   "cell_type": "markdown",
   "id": "6a30b841-e0e4-4ad3-afd0-4efe38982c76",
   "metadata": {},
   "source": [
    "## 3. Data preparation"
   ]
  },
  {
   "cell_type": "markdown",
   "id": "cfda5ce5-ceb9-43f1-81bd-739a0b4b0dd3",
   "metadata": {},
   "source": [
    "### 3.1. Adjusting labels"
   ]
  },
  {
   "cell_type": "code",
   "execution_count": null,
   "id": "50851fe4-be29-4258-88ff-4e834656cc37",
   "metadata": {},
   "outputs": [],
   "source": [
    "# Dropping uncomparable items (2017 survey doesn't have 'Huh?')\n",
    "q2.drop(labels=['Huh?'], inplace=True)"
   ]
  },
  {
   "cell_type": "code",
   "execution_count": null,
   "id": "d506a951-b026-472b-8f3f-8540cb0f43c0",
   "metadata": {},
   "outputs": [],
   "source": [
    "# Standardizing and simplifiyng labels\n",
    "q2.rename({'It depends': 'Both'}, inplace=True)\n",
    "q4.rename({'Star Wars; Star Trek': 'Both'}, inplace=True)\n",
    "q5.rename({'Other (please specify)': 'Other'}, inplace=True)\n",
    "q6.rename({'Other (please specify)': 'Other'}, inplace=True)\n",
    "q8.rename({'SIGH': 'Sigh'}, inplace=True)"
   ]
  },
  {
   "cell_type": "code",
   "execution_count": null,
   "id": "462fa690-bcc4-4d01-bfd1-34acd8667315",
   "metadata": {},
   "outputs": [],
   "source": [
    "# Combining rows with same label to remove NaNs\n",
    "q2 = q2.groupby(q2.index).sum()"
   ]
  },
  {
   "cell_type": "code",
   "execution_count": null,
   "id": "ec630348-6238-447f-8f71-dffc7197dde0",
   "metadata": {},
   "outputs": [],
   "source": [
    "# Ordering in a more intuitive way\n",
    "q1 = q1.reindex(['0', '1', '2', '3', '4', '5', '6', '7', '8', '9', 'More than 10'])\n",
    "q2 = q2.reindex(['Tabs', 'Spaces', 'Both'])\n",
    "q3 = q3.reindex(['Disagree completely', 'Disagree somewhat', 'Neutral', 'Agree somewhat', 'Agree completely'])\n",
    "q8 = q8.reindex(['Yes', 'Also Yes', 'Sigh', 'Fortunately, someone else has that title'])"
   ]
  },
  {
   "cell_type": "code",
   "execution_count": null,
   "id": "704d67ef-3f22-44c2-9a4a-565de32fd5d6",
   "metadata": {},
   "outputs": [],
   "source": [
    "# Breaking label lines to fit on the charts\n",
    "q1.rename({'More than 10': 'More\\nthan\\n10'}, inplace=True)\n",
    "\n",
    "q3.rename({'Disagree completely': 'Disagree\\ncompletely',\n",
    "           'Disagree somewhat': 'Disagree\\nsomewhat',\n",
    "           'Agree somewhat': 'Agree\\nsomewhat',\n",
    "           'Agree completely': 'Agree\\ncompletely'}, inplace=True)\n",
    "\n",
    "q4.rename({'Star Wars': 'Star\\nWars',\n",
    "           'Star Trek': 'Star\\nTrek'}, inplace=True)\n",
    "\n",
    "q7.rename({'With a hard \"g,\" like \"gift\"': 'With a hard \"g\",\\nlike \"gift\"',\n",
    "           'With a soft \"g,\" like \"jiff\"': 'With a soft \"g\",\\nlike \"jiff\"',\n",
    "           'Enunciating each letter: \"gee eye eff\"': 'Enunciating each letter:\\n\"gee eye eff\"'}, inplace=True)\n",
    "\n",
    "q8.rename({'Fortunately, someone else has that title': 'Fortunately, someone\\nelse has that title'}, inplace=True)"
   ]
  },
  {
   "cell_type": "markdown",
   "id": "8eba8cdb-2443-43e8-81c7-b8b55392532d",
   "metadata": {},
   "source": [
    "### 3.2. Getting x and y values"
   ]
  },
  {
   "cell_type": "code",
   "execution_count": null,
   "id": "5940f07e-a84f-451b-bfcb-b547b69e5284",
   "metadata": {},
   "outputs": [],
   "source": [
    "q0_x = list(range(2011, 2022))\n",
    "\n",
    "surveys = [df_11, df_12, df_13, df_14, df_15, df_16, df_17, df_18, df_19,\n",
    "           df_20, df_21]\n",
    "q0_y = []\n",
    "for survey in surveys:\n",
    "    rows = survey.shape[0]\n",
    "    q0_y.append(rows)"
   ]
  },
  {
   "cell_type": "code",
   "execution_count": null,
   "id": "3be896c4-1c6f-4fbe-a7d0-166ec1738e0a",
   "metadata": {},
   "outputs": [],
   "source": [
    "# The convention used is labels as x and values as y\n",
    "q1_x = q1.index.tolist()\n",
    "q1_y = q1.to_list()\n",
    "\n",
    "q2_x = q2.columns.tolist()\n",
    "q2_y_t = q2.loc['Tabs'].tolist()\n",
    "q2_y_s = q2.loc['Spaces'].tolist()\n",
    "q2_y_b = q2.loc['Both'].tolist()\n",
    "q2_l = q2.index.tolist()  # Legend\n",
    "\n",
    "q3_x = q3.index.tolist()\n",
    "q3_y = q3.to_list()\n",
    "\n",
    "q4_x = q4.index.tolist()\n",
    "q4_y = q4.to_list()\n",
    "\n",
    "q5_x = q5.index.tolist()\n",
    "q5_y = q5.to_list()\n",
    "\n",
    "q6_x = q6.index.tolist()\n",
    "q6_y = q6.to_list()\n",
    "\n",
    "q7_x = q7.index.tolist()\n",
    "q7_y = q7.to_list()\n",
    "\n",
    "q8_x = q8.index.tolist()\n",
    "q8_y = q8.to_list()"
   ]
  },
  {
   "cell_type": "markdown",
   "id": "1ea09b08-5081-4e16-8eea-b61c21150be3",
   "metadata": {},
   "source": [
    "### 3.3. Transforming into percentages"
   ]
  },
  {
   "cell_type": "code",
   "execution_count": null,
   "id": "79ca3407-e251-4017-bd05-de5ba4d0aed0",
   "metadata": {},
   "outputs": [],
   "source": [
    "def get_percentages(abs_values):\n",
    "    \"\"\"\n",
    "    Transform a list of absolute numbers into percentages of the total sum.\n",
    "    \n",
    "    Parameters:\n",
    "        abs_values (list of floats): A list with absolute numbers.\n",
    "    \n",
    "    Return:\n",
    "        per_values (list of floats): A list with the percentage of each\n",
    "            absolute number regarding the total sum.\n",
    "    \"\"\"\n",
    "    \n",
    "    np_abs_values = np.array(abs_values)\n",
    "    total = np.sum(np_abs_values, axis=0)\n",
    "    per_values = list(np_abs_values/total)\n",
    "\n",
    "    return per_values"
   ]
  },
  {
   "cell_type": "code",
   "execution_count": null,
   "id": "6cd322b0-6013-45a9-85fa-b23500017518",
   "metadata": {},
   "outputs": [],
   "source": [
    "q1_y_per = get_percentages(q1_y)\n",
    "q3_y_per = get_percentages(q3_y)\n",
    "q4_y_per = get_percentages(q4_y)\n",
    "q5_y_per = get_percentages(q5_y)\n",
    "q6_y_per = get_percentages(q6_y)\n",
    "q7_y_per = get_percentages(q7_y)\n",
    "q8_y_per = get_percentages(q8_y)"
   ]
  },
  {
   "cell_type": "code",
   "execution_count": null,
   "id": "8810f14d-5732-49fe-8d17-d725954d5779",
   "metadata": {},
   "outputs": [],
   "source": [
    "q2_y_t_abs = np.array(q2_y_t)\n",
    "q2_y_s_abs = np.array(q2_y_s)\n",
    "q2_y_b_abs = np.array(q2_y_b)\n",
    "\n",
    "total = np.sum([q2_y_t_abs, q2_y_s_abs, q2_y_b_abs], axis=0)\n",
    "\n",
    "q2_y_t_per = list(q2_y_t_abs/total)\n",
    "q2_y_s_per = list(q2_y_s_abs/total)\n",
    "q2_y_b_per = list(q2_y_b_abs/total)\n",
    "\n",
    "q2_y_per = [q2_y_t_per, q2_y_s_per, q2_y_b_per]"
   ]
  },
  {
   "cell_type": "markdown",
   "id": "c39452c7-42f2-481d-9a13-9593ab023951",
   "metadata": {},
   "source": [
    "## 4. Descriptive statistics"
   ]
  },
  {
   "cell_type": "markdown",
   "id": "999c5dc2-409d-48a0-97b4-3ab3ee7da97c",
   "metadata": {},
   "source": [
    "### 4.1. Support functions"
   ]
  },
  {
   "cell_type": "code",
   "execution_count": null,
   "id": "e71f4546-e71a-4b5f-b06e-338cd655f3f0",
   "metadata": {},
   "outputs": [],
   "source": [
    "def calc_bar_positions(classes, space=1/2):\n",
    "    \"\"\"\n",
    "    Calculate the coordinates and size of bars, given a desired space.\n",
    "    \n",
    "    Parameters:\n",
    "        classes (list of strings): A list of the major tick labels for the x\n",
    "            or y axis. In other words, the classes.\n",
    "        space (float): The space between bars, in terms of the size (width or\n",
    "            height) of them.\n",
    "    \n",
    "    Return:\n",
    "        coords (list of floats): A list with the x or y coordinates to\n",
    "            position the bars.\n",
    "        size (float): The width of the bar (x axis) or the height of the bar\n",
    "            (y axis).\n",
    "    \n",
    "    Example:\n",
    "        Let's say there are 2 classes in the y axis, and we want to generate y\n",
    "        coordinates to position them, with spaces with 1/4 of their height\n",
    "        between them and the axis limits. First, we need to calculate the\n",
    "        space unit, with the following equation:\n",
    "        \n",
    "        space_unit = 1/(1 + 2*(space) + (n - 1)*(1 + space))\n",
    "        \n",
    "        Where:\n",
    "        \n",
    "        Space unit: The size of a single space. It's the fraction that a bar\n",
    "            occupies on an axis with a size of 1 and a given ammount of space\n",
    "            between the bars.\n",
    "        Numerator: The total size of the x or y axis, always 1.\n",
    "        Denominator: The number of spaces to divide the axis by.\n",
    "        \n",
    "        This would give us as a space unit of 1/2.75. The details of how to\n",
    "        calculate the denominator are:\n",
    "        \n",
    "        1/4 (from the bottom of the y axis to the bottom of the first bar)\n",
    "        + 1 (height of the first bar)\n",
    "        + 1/4 (space between bars)\n",
    "        + 1 (height of the second bar)\n",
    "        + 1/4 (from the top of the second bar to the top of the y axis)\n",
    "        = 2.75\n",
    "        \n",
    "        Then, we would need to use the space unit to calculate the x or y\n",
    "        coordinate for each bar, with the following equation:\n",
    "        \n",
    "        coordinate = space_unit*(1/2 + space + i*(1 + space))\n",
    "        \n",
    "        To calculate the y coordinate for the second bar, it would be:\n",
    "        \n",
    "        1/4 (from the bottom of the y axis to the bottom of the first bar)\n",
    "        + 1 (height of the first bar)\n",
    "        + 1/4 (space between bars)\n",
    "        + 1/2 (half of the height of the second bar)\n",
    "        = 2\n",
    "    \"\"\"\n",
    "    n = len(classes)\n",
    "    space_unit = 1/(1 + 2*(space) + (n - 1)*(1 + space))\n",
    "    \n",
    "    # List with the coordinate of every bar\n",
    "    coords = []\n",
    "    for i in range(n):\n",
    "        # Calculate the coordinate to position the bar\n",
    "        coords.append(space_unit*(1/2 + space + i*(1 + space)))\n",
    "\n",
    "    size = space_unit\n",
    "    \n",
    "    return coords, size"
   ]
  },
  {
   "cell_type": "code",
   "execution_count": null,
   "id": "db7e8911-3e41-4891-a2c8-ad63123c87f4",
   "metadata": {},
   "outputs": [],
   "source": [
    "def annotate_plot(text, xy, xytext, **kwargs):\n",
    "    \"\"\"\n",
    "    Annotate the point xy with text and offset it.\n",
    "    \n",
    "    Parameters:\n",
    "        text (string): The text to be annotated.\n",
    "        xy (tuple of floats): The x and y coordinates to place the text.\n",
    "        xytext (tuple of floats): The ammount of x and y points to offset the\n",
    "            text.\n",
    "        **kwargs: Accepts any keyword argument from the annotate function.\n",
    "    \n",
    "    Return:\n",
    "        None.\n",
    "    \"\"\"\n",
    "    plt.gca().annotate(text,  # This is the text\n",
    "                       xy,  # These are the coordinates to position the label\n",
    "                       textcoords='offset points',  # How to position the text\n",
    "                       xytext=xytext,  # Distance from text to points (x, y)\n",
    "                       fontsize=11,\n",
    "                       **kwargs)\n",
    "    return"
   ]
  },
  {
   "cell_type": "code",
   "execution_count": null,
   "id": "86a61442-a48b-4b83-9c0b-4561575cd1ad",
   "metadata": {},
   "outputs": [],
   "source": [
    "def style_vertical():\n",
    "    \"\"\"Apply a minimalist style to a vertical bar chart plot\"\"\"\n",
    "    plt.gca().yaxis.set_major_formatter(StrMethodFormatter('{x:,.0%}'))\n",
    "    plt.gca().tick_params(bottom=False, width=1)\n",
    "    plt.gca().spines['bottom'].set_visible(False)\n",
    "    return"
   ]
  },
  {
   "cell_type": "code",
   "execution_count": null,
   "id": "dfaba309-36b7-4e7c-a0ee-57855f149676",
   "metadata": {},
   "outputs": [],
   "source": [
    "def style_horizontal():\n",
    "    \"\"\"Apply a minimalist style to a horizontal bar chart plot\"\"\"\n",
    "    plt.gca().xaxis.set_major_formatter(StrMethodFormatter('{x:,.0%}'))\n",
    "    plt.gca().tick_params(left=False, width=1)\n",
    "    plt.gca().spines['left'].set_visible(False)\n",
    "    return"
   ]
  },
  {
   "cell_type": "code",
   "execution_count": null,
   "id": "8b709577-9df0-41f5-a66e-b2af336800fa",
   "metadata": {},
   "outputs": [],
   "source": [
    "def plot_line(x, y, title, xlabel, ylabel, xlim, ylim, **kwargs):\n",
    "    \"\"\"\n",
    "    Plot a line chart with a minimalist style.\n",
    "    \n",
    "    Parameters:\n",
    "        x (list of floats): A list with the x values to plot.\n",
    "        y (list of floats): A list with the y values to plot.\n",
    "        title (string): The title of the chart.\n",
    "        xlabel (string): The name of the x axis metric.\n",
    "        ylabel (string): The name of the y axis metric.\n",
    "        xlim (tuple of floats): A tuple with the left and right limits for\n",
    "            the x axis.\n",
    "        ylim (tuple of floats): A tuple with the bottom and top limits for\n",
    "            the y axis.\n",
    "        **kwargs: Accepts any keyword argument from the figure function.\n",
    "    \n",
    "    Return:\n",
    "        fig (figure): A figure with the final plot stored.\n",
    "    \"\"\"\n",
    "    fig = plt.figure(**kwargs)\n",
    "    \n",
    "    plt.plot(x, y)\n",
    "    \n",
    "    plt.title(title)\n",
    "    # Hide the spine inside the 0.1 x axis margin\n",
    "    # Must come before plt.xlim()\n",
    "    plt.gca().spines['bottom'].set_bounds(xlim)\n",
    "    # Add a 0.1 margin to avoid trimming the round end of the line\n",
    "    xlim = (xlim[0], xlim[1] + 0.1)\n",
    "    plt.xlim(xlim)\n",
    "    plt.ylim(ylim)\n",
    "    # Right align the xlabel to the last major tick label\n",
    "    plt.xlabel(xlabel, va='top', ha='right', x=1.015)\n",
    "    # Vertically align the ylabel to the last major tick label\n",
    "    plt.ylabel(ylabel, va='bottom', ha='right', y=1.026)\n",
    "    # Show major ticks as multiples of 1 on the x axis\n",
    "    plt.gca().xaxis.set_major_locator(plt.MultipleLocator(1))\n",
    "    plt.tight_layout(h_pad=4, w_pad=4)\n",
    "    plt.show()\n",
    "    \n",
    "    return fig"
   ]
  },
  {
   "cell_type": "code",
   "execution_count": null,
   "id": "e57dab86-e91f-43b1-b1d3-75bfbf0647ee",
   "metadata": {},
   "outputs": [],
   "source": [
    "def plot_bar(x, y, title, horizontal=False, xlim=(0, 1), ylim=(0, 1),\n",
    "             space=1/2, **kwargs):\n",
    "    \"\"\"\n",
    "    Plot a bar chart with a minimalist style.\n",
    "    \n",
    "    Parameters:\n",
    "        x (list of strings): A list with the name of the labels of the\n",
    "            classes.\n",
    "        y (list of floats): A list with the y values of each class.\n",
    "        title (string): The title of the chart.\n",
    "        horizontal (bool): The orientation of the chart. The default is False,\n",
    "            which is vertical.\n",
    "        xlim (tuple of floats): A tuple with the left and right limits for\n",
    "            the x axis. The default is (0, 1), useful for percentages.\n",
    "        ylim (tuple of floats): A tuple with the bottom and top limits for\n",
    "            the y axis. The default is (0, 1), useful for percentages.\n",
    "        space (float): The space between bars, in terms of the size (width or\n",
    "            height) of them.\n",
    "        **kwargs: Accepts any keyword argument from the figure function.\n",
    "    \n",
    "    Return:\n",
    "        fig (figure): A figure with the final plot stored.\n",
    "    \"\"\"\n",
    "    fig = plt.figure(**kwargs)\n",
    "    coords, size = calc_bar_positions(x, space)\n",
    "    \n",
    "    if horizontal:\n",
    "        plt.barh(coords[::-1], y, height=size)\n",
    "        plt.yticks(coords[::-1], x)\n",
    "        style_horizontal()\n",
    "    else:\n",
    "        plt.bar(coords, y, width=size)\n",
    "        plt.xticks(coords, x)\n",
    "        style_vertical()\n",
    "    \n",
    "    # Styling and showing the chart\n",
    "    plt.title(title)\n",
    "    plt.xlim(xlim)\n",
    "    plt.ylim(ylim)\n",
    "    plt.tight_layout(h_pad=4, w_pad=4)\n",
    "    plt.show()\n",
    "    \n",
    "    return fig"
   ]
  },
  {
   "cell_type": "code",
   "execution_count": null,
   "id": "2b8016db-f65a-4b2b-ad02-3125482591c9",
   "metadata": {},
   "outputs": [],
   "source": [
    "def plot_slope(dates, series, legends, title, ylim=(0, 1), **kwargs):\n",
    "    \"\"\"\n",
    "    Plot a slopegraph with a minimalist style.\n",
    "    \n",
    "    Parameters:\n",
    "        dates (list of strings): A list with two date labels, always.\n",
    "        series (list of list of floats): A list with other lists inside,\n",
    "            each one with the y values from a specific class.\n",
    "        legends (list of strings): A list with the legend of each class.\n",
    "        title (string): The title of the chart.\n",
    "        ylim (tuple of floats): A tuple with the bottom and top limits for\n",
    "            the y axis. The default is (0, 1), useful for percentages.\n",
    "        **kwargs: Accepts any keyword argument from the figure function.\n",
    "    \n",
    "    Return:\n",
    "        fig (figure): A figure with the final plot stored.\n",
    "    \"\"\"\n",
    "    fig = plt.figure(**kwargs)\n",
    "    \n",
    "    items = zip(series, legends)\n",
    "    for single_series, legend in items:\n",
    "        \n",
    "        plt.plot(dates, single_series, 'o-', markersize=10)\n",
    "        \n",
    "        # Pick the label color from the style sheet file\n",
    "        color = mpl.rcParams['axes.labelcolor']\n",
    "        labels = zip(dates, single_series)\n",
    "        for i, (x, y) in enumerate(labels):\n",
    "            label = '{:.0%}'.format(y)\n",
    "            \n",
    "            if i % 2 == 0:  # First date label\n",
    "                annotate_plot(label, (x, y), (-10, 0), ha='right',\n",
    "                              va='center', color=color)\n",
    "                annotate_plot(legend, (x, y), (-45, 0), ha='right',\n",
    "                              va='center', color=color)\n",
    "            else:  # Second date label\n",
    "                annotate_plot(label, (x, y), (10, 0), ha='left',\n",
    "                              va='center', color=color)\n",
    "    \n",
    "    # Styling and showing the chart\n",
    "    plt.title(title)\n",
    "    plt.ylim(ylim)\n",
    "    plt.margins(x=0.05)\n",
    "    plt.tick_params(left=False, width=1)\n",
    "    plt.gca().yaxis.set_visible(False)\n",
    "    plt.gca().spines['left'].set_visible(False)\n",
    "    plt.gca().spines['bottom'].set_bounds((0, 1))\n",
    "    plt.tight_layout(h_pad=4, w_pad=4)\n",
    "    plt.show()\n",
    "    \n",
    "    return fig"
   ]
  },
  {
   "cell_type": "code",
   "execution_count": null,
   "id": "6427c011-85ce-4f4d-82ba-1ea3997e0244",
   "metadata": {},
   "outputs": [],
   "source": [
    "def plot_hor_stacked_bars(values, legends, title, bar_colors, leg_colors,\n",
    "                          xlim=(0, 1), ylim=(0, 1), **kwargs):\n",
    "    \"\"\"\n",
    "    Plot horizontal stacked bars chart with a minimalist style.\n",
    "    \n",
    "    Parameters:\n",
    "        values (list of floats): A list with the size of each bar.\n",
    "        legends (list of strings): A list with the legend of each bar.\n",
    "        bar_colors (list of strings): A list with the bar colors in the\n",
    "            hexadecimal format, including the #.\n",
    "        leg_colors (list of strings): A list with legend colors in the\n",
    "            hexadecimal format, including the #.\n",
    "        xlim (tuple of floats): A tuple with the left and right limits for\n",
    "            the x axis. The default is (0, 1), useful for percentages.\n",
    "        ylim (tuple of floats): A tuple with the bottom and top limits for\n",
    "            the y axis. The default is (0, 1), useful for percentages.\n",
    "        **kwargs: Accepts any keyword argument from the figure function.\n",
    "    \n",
    "    Return:\n",
    "        fig (figure): A figure with the final plot stored.\n",
    "    \"\"\"\n",
    "    fig = plt.figure(**kwargs)\n",
    "    \n",
    "    # Store the position from which the bars begin\n",
    "    left = 0\n",
    "    zipped = zip(values, legends, bar_colors, leg_colors)\n",
    "    for value, legend, bar_color, leg_color in zipped:\n",
    "        \n",
    "        rect = plt.barh(y=3/4, width=value, height=1, left=left,\n",
    "                        color=bar_color)\n",
    "        \n",
    "        # Put the legend in the middle of each bar\n",
    "        xy= (rect[0].get_x() + rect[0].get_width()/2,\n",
    "             rect[0].get_y() + rect[0].get_height())\n",
    "\n",
    "        annotate_plot(legend, xy, (0, 5), ha='center', va='bottom',\n",
    "                      color=leg_color)\n",
    "        left += value\n",
    "    \n",
    "    # Styling and showing the chart\n",
    "    style_horizontal()\n",
    "    plt.title(title)\n",
    "    plt.xlim(xlim)\n",
    "    plt.ylim(ylim)\n",
    "    plt.gca().xaxis.set_major_locator(plt.MultipleLocator(0.1))\n",
    "    plt.gca().yaxis.set_visible(False)\n",
    "    plt.tight_layout(h_pad=4, w_pad=4)\n",
    "    plt.show()\n",
    "    \n",
    "    return fig"
   ]
  },
  {
   "cell_type": "markdown",
   "id": "baf01708-f194-4f75-bfb9-7495b324cc8c",
   "metadata": {},
   "source": [
    "### 4.2. Visualizations"
   ]
  },
  {
   "cell_type": "code",
   "execution_count": null,
   "id": "f177c1b1-7b00-4502-9ac6-11146fbe94c5",
   "metadata": {},
   "outputs": [],
   "source": [
    "# Titles\n",
    "t0 = 'How many survey respondents per year?'\n",
    "t1 = 'How many caffeinated beverages per day?'\n",
    "t2 = 'Tabs or spaces?'\n",
    "t3 = \"How much do you agree or disagree with the following statement?\\nI want to go to Mars right now, even if there's a chance I never come back.\"\n",
    "t4 = 'Star Wars or Star Trek?'\n",
    "t5 = 'Dogs or cats?'\n",
    "t6 = 'Do you believe in aliens?'\n",
    "t7 = 'How do you pronounce \"GIF\"?'\n",
    "t8 = 'Are you the \"IT support person\" for your family?'"
   ]
  },
  {
   "cell_type": "markdown",
   "id": "841b30a0-ba31-4128-96f1-f8b6bab658b5",
   "metadata": {},
   "source": [
    "#### 4.2.1. Survey respondents"
   ]
  },
  {
   "cell_type": "code",
   "execution_count": null,
   "id": "19f467b9-0435-4c00-b37b-27f21914856d",
   "metadata": {},
   "outputs": [],
   "source": [
    "fig0 = plot_line(q0_x,\n",
    "                 q0_y,\n",
    "                 t0,\n",
    "                 xlabel='Year',\n",
    "                 ylabel='Respondents',\n",
    "                 xlim=(2011, 2021),\n",
    "                 ylim=(0, 120000),\n",
    "                 figsize=(10, 4.5))"
   ]
  },
  {
   "cell_type": "markdown",
   "id": "99485817-59db-4237-81a5-a4c4b4cca11f",
   "metadata": {},
   "source": [
    "#### 4.2.2. Caffeinated beverages"
   ]
  },
  {
   "cell_type": "code",
   "execution_count": null,
   "id": "e4e22e37-b7de-4cb5-980d-9d30b059495d",
   "metadata": {},
   "outputs": [],
   "source": [
    "fig1 = plot_bar(q1_x,\n",
    "                q1_y_per,\n",
    "                t1,\n",
    "                ylim=(0, 0.25),\n",
    "                space=1/3)"
   ]
  },
  {
   "cell_type": "markdown",
   "id": "57eda195-837c-46ff-ad72-d7ed000876f9",
   "metadata": {},
   "source": [
    "#### 4.2.3. Tabs or spaces"
   ]
  },
  {
   "cell_type": "code",
   "execution_count": null,
   "id": "d18161f0-92ac-462d-a94b-b45d6735defb",
   "metadata": {},
   "outputs": [],
   "source": [
    "fig2 = plot_slope(q2_x,\n",
    "                  q2_y_per,\n",
    "                  q2_l,\n",
    "                  t2,\n",
    "                  ylim=(0, 0.5),\n",
    "                  figsize=(4, 4.5))"
   ]
  },
  {
   "cell_type": "markdown",
   "id": "1707f5e3-c66c-47f4-ad2a-4dc1ddeb6eb2",
   "metadata": {},
   "source": [
    "#### 4.2.4. Desire to go to Mars"
   ]
  },
  {
   "cell_type": "code",
   "execution_count": null,
   "id": "ff5ba6e2-55a3-4088-9f05-42174bb152f9",
   "metadata": {},
   "outputs": [],
   "source": [
    "# Defining a color pallete to plot the chart\n",
    "bar_colors = ['#888888', '#B4B4B4', '#E0E0E0', '#F69B51', '#F2740E']\n",
    "\n",
    "# C2C2C2 is darker and more readable than E0E0E0\n",
    "leg_colors = bar_colors.copy()\n",
    "leg_colors[2] = '#C2C2C2'\n",
    "\n",
    "fig3 = plot_hor_stacked_bars(q3_y_per,\n",
    "                             q3_x,\n",
    "                             t3,\n",
    "                             bar_colors,\n",
    "                             leg_colors,\n",
    "                             ylim=(0, 2.2),\n",
    "                             figsize=(11, 3))"
   ]
  },
  {
   "cell_type": "markdown",
   "id": "e343fcc7-b58c-4718-815e-a2401f63a481",
   "metadata": {},
   "source": [
    "#### 4.2.5. Star Wars or Star Trek"
   ]
  },
  {
   "cell_type": "code",
   "execution_count": null,
   "id": "69b55f14-1fff-4e59-8297-4a55c2cadee6",
   "metadata": {},
   "outputs": [],
   "source": [
    "fig4 = plot_bar(q4_x,\n",
    "                q4_y_per,\n",
    "                t4,\n",
    "                ylim=(0, 0.7),\n",
    "                figsize=(3.4, 4.5))"
   ]
  },
  {
   "cell_type": "markdown",
   "id": "9de027b7-47b0-4141-8978-b604fe67c185",
   "metadata": {},
   "source": [
    "#### 4.2.6. Dogs or cats"
   ]
  },
  {
   "cell_type": "code",
   "execution_count": null,
   "id": "c6c55dd8-764a-453d-8528-7f3eb2b5d259",
   "metadata": {},
   "outputs": [],
   "source": [
    "fig5 = plot_bar(q5_x,\n",
    "                q5_y_per,\n",
    "                t5,\n",
    "                ylim=(0, 0.5),\n",
    "                figsize=(3.4, 4.5))"
   ]
  },
  {
   "cell_type": "markdown",
   "id": "22f55935-e9d0-47fa-b921-a6611b19c0e9",
   "metadata": {},
   "source": [
    "#### 4.2.7. Aliens belief"
   ]
  },
  {
   "cell_type": "code",
   "execution_count": null,
   "id": "02153483-14ea-460c-8bd8-043fe169d668",
   "metadata": {},
   "outputs": [],
   "source": [
    "fig6 = plot_bar(q6_x,\n",
    "                q6_y_per,\n",
    "                t6,\n",
    "                ylim=(0, 0.6),\n",
    "                figsize=(3.4, 4.5))"
   ]
  },
  {
   "cell_type": "markdown",
   "id": "5ae03a53-d2c7-41c5-ab87-a507afc9e5f7",
   "metadata": {},
   "source": [
    "#### 4.2.8. GIF pronunciation"
   ]
  },
  {
   "cell_type": "code",
   "execution_count": null,
   "id": "247c4074-a28b-4636-bfa3-90e97fd33746",
   "metadata": {},
   "outputs": [],
   "source": [
    "fig7 = plot_bar(q7_x,\n",
    "                q7_y_per,\n",
    "                t7,\n",
    "                horizontal=True,\n",
    "                xlim=(0, 0.7),\n",
    "                figsize=(8, 4))"
   ]
  },
  {
   "cell_type": "markdown",
   "id": "d9f11d62-b37c-45f4-ae1d-bb5a260f8713",
   "metadata": {},
   "source": [
    "#### 4.2.9. IT support person"
   ]
  },
  {
   "cell_type": "code",
   "execution_count": null,
   "id": "115146b5-a235-4b43-8f8f-8377af2e0442",
   "metadata": {},
   "outputs": [],
   "source": [
    "fig8 = plot_bar(q8_x,\n",
    "                q8_y_per,\n",
    "                t8,\n",
    "                horizontal=True,\n",
    "                xlim=(0, 0.6),\n",
    "                figsize=(8, 4))"
   ]
  },
  {
   "cell_type": "markdown",
   "id": "19cce682-304d-4d54-82fc-11214f15a455",
   "metadata": {},
   "source": [
    "### 4.3. Export images"
   ]
  },
  {
   "cell_type": "code",
   "execution_count": null,
   "id": "c6759dea-ddc2-4b79-a50f-743bbc626402",
   "metadata": {},
   "outputs": [],
   "source": [
    "figures = [fig0, fig1, fig2, fig3, fig4, fig5, fig6, fig7, fig8]\n",
    "\n",
    "file_names = ['q0_survey_respondents',\n",
    "              'q1_caffeinated_beverages',\n",
    "              'q2_tabs_or_spaces',\n",
    "              'q3_desire_to_go_to_mars',\n",
    "              'q4_star_wars_or_star_trek',\n",
    "              'q5_dogs_or_cats',\n",
    "              'q6_aliens_belief',\n",
    "              'q7_gif_pronunciation',\n",
    "              'q8_it_support_person'\n",
    "]"
   ]
  },
  {
   "cell_type": "code",
   "execution_count": null,
   "id": "b1390e0d-d1c9-4a7b-86c1-00286fcedf3e",
   "metadata": {},
   "outputs": [],
   "source": [
    "for fig, file_name in zip(figures, file_names):\n",
    "    fig.savefig(f'images/{file_name}.png', bbox_inches='tight', dpi=500)"
   ]
  }
 ],
 "metadata": {
  "kernelspec": {
   "display_name": "Python 3",
   "language": "python",
   "name": "python3"
  },
  "language_info": {
   "codemirror_mode": {
    "name": "ipython",
    "version": 3
   },
   "file_extension": ".py",
   "mimetype": "text/x-python",
   "name": "python",
   "nbconvert_exporter": "python",
   "pygments_lexer": "ipython3",
   "version": "3.7.10"
  },
  "toc-autonumbering": false,
  "toc-showcode": false,
  "toc-showmarkdowntxt": false,
  "toc-showtags": false
 },
 "nbformat": 4,
 "nbformat_minor": 5
}
