{
 "cells": [
  {
   "cell_type": "markdown",
   "id": "b171292f-d930-44d8-9289-c6aab65badfc",
   "metadata": {},
   "source": [
    "# Stack Overflow Survey"
   ]
  },
  {
   "cell_type": "markdown",
   "id": "c457a231-2a39-4368-a4d1-994c78657f91",
   "metadata": {},
   "source": [
    "## 1. Load dataset"
   ]
  },
  {
   "cell_type": "code",
   "execution_count": 179,
   "id": "197dd2aa-da82-49ae-b4b4-460d175f1079",
   "metadata": {},
   "outputs": [],
   "source": [
    "import numpy as np\n",
    "import pandas as pd\n",
    "\n",
    "import matplotlib.pyplot as plt\n",
    "import matplotlib.gridspec as gs\n",
    "%config InlineBackend.figure_format='retina'\n",
    "\n",
    "import warnings\n",
    "warnings.filterwarnings('ignore')"
   ]
  },
  {
   "cell_type": "code",
   "execution_count": 140,
   "id": "e00ca74c-daa7-40e1-9006-7d7de6618788",
   "metadata": {},
   "outputs": [],
   "source": [
    "pd.set_option('display.max_colwidth', None)\n",
    "pd.set_option('display.max_columns', None)"
   ]
  },
  {
   "cell_type": "code",
   "execution_count": 141,
   "id": "75f0d085-0e80-4bf9-9fc7-781a5ca4e119",
   "metadata": {},
   "outputs": [],
   "source": [
    "df_11 = pd.read_csv('data/developer_survey_2011/survey_results_public.csv', header=1, dtype=str)\n",
    "df_12 = pd.read_csv('data/developer_survey_2012/survey_results_public.csv', header=1, dtype=str)\n",
    "df_13 = pd.read_csv('data/developer_survey_2013/survey_results_public.csv', header=1, dtype=str)\n",
    "df_14 = pd.read_csv('data/developer_survey_2014/survey_results_public.csv', header=1, dtype=str)\n",
    "df_15 = pd.read_csv('data/developer_survey_2015/survey_results_public.csv', header=1, dtype=str)\n",
    "df_16 = pd.read_csv('data/developer_survey_2016/survey_results_public.csv')\n",
    "df_17 = pd.read_csv('data/developer_survey_2017/survey_results_public.csv')\n",
    "df_18 = pd.read_csv('data/developer_survey_2018/survey_results_public.csv')\n",
    "df_19 = pd.read_csv('data/developer_survey_2019/survey_results_public.csv')\n",
    "df_20 = pd.read_csv('data/developer_survey_2020/survey_results_public.csv')"
   ]
  },
  {
   "cell_type": "code",
   "execution_count": 142,
   "id": "fd855c20-7e16-4f56-a967-ae8a6c6982d4",
   "metadata": {},
   "outputs": [
    {
     "data": {
      "text/html": [
       "<div>\n",
       "<style scoped>\n",
       "    .dataframe tbody tr th:only-of-type {\n",
       "        vertical-align: middle;\n",
       "    }\n",
       "\n",
       "    .dataframe tbody tr th {\n",
       "        vertical-align: top;\n",
       "    }\n",
       "\n",
       "    .dataframe thead th {\n",
       "        text-align: right;\n",
       "    }\n",
       "</style>\n",
       "<table border=\"1\" class=\"dataframe\">\n",
       "  <thead>\n",
       "    <tr style=\"text-align: right;\">\n",
       "      <th></th>\n",
       "      <th>Respondent</th>\n",
       "      <th>MainBranch</th>\n",
       "      <th>Hobbyist</th>\n",
       "      <th>Age</th>\n",
       "      <th>Age1stCode</th>\n",
       "      <th>CompFreq</th>\n",
       "      <th>CompTotal</th>\n",
       "      <th>ConvertedComp</th>\n",
       "      <th>Country</th>\n",
       "      <th>CurrencyDesc</th>\n",
       "      <th>CurrencySymbol</th>\n",
       "      <th>DatabaseDesireNextYear</th>\n",
       "      <th>DatabaseWorkedWith</th>\n",
       "      <th>DevType</th>\n",
       "      <th>EdLevel</th>\n",
       "      <th>Employment</th>\n",
       "      <th>Ethnicity</th>\n",
       "      <th>Gender</th>\n",
       "      <th>JobFactors</th>\n",
       "      <th>JobSat</th>\n",
       "      <th>JobSeek</th>\n",
       "      <th>LanguageDesireNextYear</th>\n",
       "      <th>LanguageWorkedWith</th>\n",
       "      <th>MiscTechDesireNextYear</th>\n",
       "      <th>MiscTechWorkedWith</th>\n",
       "      <th>NEWCollabToolsDesireNextYear</th>\n",
       "      <th>NEWCollabToolsWorkedWith</th>\n",
       "      <th>NEWDevOps</th>\n",
       "      <th>NEWDevOpsImpt</th>\n",
       "      <th>NEWEdImpt</th>\n",
       "      <th>NEWJobHunt</th>\n",
       "      <th>NEWJobHuntResearch</th>\n",
       "      <th>NEWLearn</th>\n",
       "      <th>NEWOffTopic</th>\n",
       "      <th>NEWOnboardGood</th>\n",
       "      <th>NEWOtherComms</th>\n",
       "      <th>NEWOvertime</th>\n",
       "      <th>NEWPurchaseResearch</th>\n",
       "      <th>NEWPurpleLink</th>\n",
       "      <th>NEWSOSites</th>\n",
       "      <th>NEWStuck</th>\n",
       "      <th>OpSys</th>\n",
       "      <th>OrgSize</th>\n",
       "      <th>PlatformDesireNextYear</th>\n",
       "      <th>PlatformWorkedWith</th>\n",
       "      <th>PurchaseWhat</th>\n",
       "      <th>Sexuality</th>\n",
       "      <th>SOAccount</th>\n",
       "      <th>SOComm</th>\n",
       "      <th>SOPartFreq</th>\n",
       "      <th>SOVisitFreq</th>\n",
       "      <th>SurveyEase</th>\n",
       "      <th>SurveyLength</th>\n",
       "      <th>Trans</th>\n",
       "      <th>UndergradMajor</th>\n",
       "      <th>WebframeDesireNextYear</th>\n",
       "      <th>WebframeWorkedWith</th>\n",
       "      <th>WelcomeChange</th>\n",
       "      <th>WorkWeekHrs</th>\n",
       "      <th>YearsCode</th>\n",
       "      <th>YearsCodePro</th>\n",
       "    </tr>\n",
       "  </thead>\n",
       "  <tbody>\n",
       "    <tr>\n",
       "      <th>0</th>\n",
       "      <td>1</td>\n",
       "      <td>I am a developer by profession</td>\n",
       "      <td>Yes</td>\n",
       "      <td>NaN</td>\n",
       "      <td>13</td>\n",
       "      <td>Monthly</td>\n",
       "      <td>NaN</td>\n",
       "      <td>NaN</td>\n",
       "      <td>Germany</td>\n",
       "      <td>European Euro</td>\n",
       "      <td>EUR</td>\n",
       "      <td>Microsoft SQL Server</td>\n",
       "      <td>Elasticsearch;Microsoft SQL Server;Oracle</td>\n",
       "      <td>Developer, desktop or enterprise applications;Developer, full-stack</td>\n",
       "      <td>Master’s degree (M.A., M.S., M.Eng., MBA, etc.)</td>\n",
       "      <td>Independent contractor, freelancer, or self-employed</td>\n",
       "      <td>White or of European descent</td>\n",
       "      <td>Man</td>\n",
       "      <td>Languages, frameworks, and other technologies I’d be working with;Remote work options;Opportunities for professional development</td>\n",
       "      <td>Slightly satisfied</td>\n",
       "      <td>I am not interested in new job opportunities</td>\n",
       "      <td>C#;HTML/CSS;JavaScript</td>\n",
       "      <td>C#;HTML/CSS;JavaScript</td>\n",
       "      <td>.NET Core;Xamarin</td>\n",
       "      <td>.NET;.NET Core</td>\n",
       "      <td>Microsoft Teams;Microsoft Azure;Trello</td>\n",
       "      <td>Confluence;Jira;Slack;Microsoft Azure;Trello</td>\n",
       "      <td>No</td>\n",
       "      <td>Somewhat important</td>\n",
       "      <td>Fairly important</td>\n",
       "      <td>NaN</td>\n",
       "      <td>NaN</td>\n",
       "      <td>Once a year</td>\n",
       "      <td>Not sure</td>\n",
       "      <td>NaN</td>\n",
       "      <td>No</td>\n",
       "      <td>Often: 1-2 days per week or more</td>\n",
       "      <td>Start a free trial;Ask developers I know/work with</td>\n",
       "      <td>Amused</td>\n",
       "      <td>Stack Overflow (public Q&amp;A for anyone who codes)</td>\n",
       "      <td>Visit Stack Overflow;Go for a walk or other physical activity;Do other work and come back later</td>\n",
       "      <td>Windows</td>\n",
       "      <td>2 to 9 employees</td>\n",
       "      <td>Android;iOS;Kubernetes;Microsoft Azure;Windows</td>\n",
       "      <td>Windows</td>\n",
       "      <td>NaN</td>\n",
       "      <td>Straight / Heterosexual</td>\n",
       "      <td>No</td>\n",
       "      <td>No, not at all</td>\n",
       "      <td>NaN</td>\n",
       "      <td>Multiple times per day</td>\n",
       "      <td>Neither easy nor difficult</td>\n",
       "      <td>Appropriate in length</td>\n",
       "      <td>No</td>\n",
       "      <td>Computer science, computer engineering, or software engineering</td>\n",
       "      <td>ASP.NET Core</td>\n",
       "      <td>ASP.NET;ASP.NET Core</td>\n",
       "      <td>Just as welcome now as I felt last year</td>\n",
       "      <td>50.0</td>\n",
       "      <td>36</td>\n",
       "      <td>27</td>\n",
       "    </tr>\n",
       "    <tr>\n",
       "      <th>1</th>\n",
       "      <td>2</td>\n",
       "      <td>I am a developer by profession</td>\n",
       "      <td>No</td>\n",
       "      <td>NaN</td>\n",
       "      <td>19</td>\n",
       "      <td>NaN</td>\n",
       "      <td>NaN</td>\n",
       "      <td>NaN</td>\n",
       "      <td>United Kingdom</td>\n",
       "      <td>Pound sterling</td>\n",
       "      <td>GBP</td>\n",
       "      <td>NaN</td>\n",
       "      <td>NaN</td>\n",
       "      <td>Developer, full-stack;Developer, mobile</td>\n",
       "      <td>Bachelor’s degree (B.A., B.S., B.Eng., etc.)</td>\n",
       "      <td>Employed full-time</td>\n",
       "      <td>NaN</td>\n",
       "      <td>NaN</td>\n",
       "      <td>NaN</td>\n",
       "      <td>Very dissatisfied</td>\n",
       "      <td>I am not interested in new job opportunities</td>\n",
       "      <td>Python;Swift</td>\n",
       "      <td>JavaScript;Swift</td>\n",
       "      <td>React Native;TensorFlow;Unity 3D</td>\n",
       "      <td>React Native</td>\n",
       "      <td>Github;Slack</td>\n",
       "      <td>Confluence;Jira;Github;Gitlab;Slack</td>\n",
       "      <td>NaN</td>\n",
       "      <td>NaN</td>\n",
       "      <td>Fairly important</td>\n",
       "      <td>NaN</td>\n",
       "      <td>NaN</td>\n",
       "      <td>Once a year</td>\n",
       "      <td>Not sure</td>\n",
       "      <td>NaN</td>\n",
       "      <td>No</td>\n",
       "      <td>NaN</td>\n",
       "      <td>NaN</td>\n",
       "      <td>Amused</td>\n",
       "      <td>Stack Overflow (public Q&amp;A for anyone who codes);Stack Exchange (public Q&amp;A for a variety of topics);Stack Overflow Jobs (for job seekers)</td>\n",
       "      <td>Visit Stack Overflow;Go for a walk or other physical activity</td>\n",
       "      <td>MacOS</td>\n",
       "      <td>1,000 to 4,999 employees</td>\n",
       "      <td>iOS;Kubernetes;Linux;MacOS</td>\n",
       "      <td>iOS</td>\n",
       "      <td>I have little or no influence</td>\n",
       "      <td>NaN</td>\n",
       "      <td>Yes</td>\n",
       "      <td>Yes, definitely</td>\n",
       "      <td>Less than once per month or monthly</td>\n",
       "      <td>Multiple times per day</td>\n",
       "      <td>NaN</td>\n",
       "      <td>NaN</td>\n",
       "      <td>NaN</td>\n",
       "      <td>Computer science, computer engineering, or software engineering</td>\n",
       "      <td>NaN</td>\n",
       "      <td>NaN</td>\n",
       "      <td>Somewhat more welcome now than last year</td>\n",
       "      <td>NaN</td>\n",
       "      <td>7</td>\n",
       "      <td>4</td>\n",
       "    </tr>\n",
       "    <tr>\n",
       "      <th>2</th>\n",
       "      <td>3</td>\n",
       "      <td>I code primarily as a hobby</td>\n",
       "      <td>Yes</td>\n",
       "      <td>NaN</td>\n",
       "      <td>15</td>\n",
       "      <td>NaN</td>\n",
       "      <td>NaN</td>\n",
       "      <td>NaN</td>\n",
       "      <td>Russian Federation</td>\n",
       "      <td>NaN</td>\n",
       "      <td>NaN</td>\n",
       "      <td>NaN</td>\n",
       "      <td>NaN</td>\n",
       "      <td>NaN</td>\n",
       "      <td>NaN</td>\n",
       "      <td>NaN</td>\n",
       "      <td>NaN</td>\n",
       "      <td>NaN</td>\n",
       "      <td>NaN</td>\n",
       "      <td>NaN</td>\n",
       "      <td>NaN</td>\n",
       "      <td>Objective-C;Python;Swift</td>\n",
       "      <td>Objective-C;Python;Swift</td>\n",
       "      <td>NaN</td>\n",
       "      <td>NaN</td>\n",
       "      <td>NaN</td>\n",
       "      <td>NaN</td>\n",
       "      <td>NaN</td>\n",
       "      <td>NaN</td>\n",
       "      <td>NaN</td>\n",
       "      <td>NaN</td>\n",
       "      <td>NaN</td>\n",
       "      <td>Once a decade</td>\n",
       "      <td>NaN</td>\n",
       "      <td>NaN</td>\n",
       "      <td>No</td>\n",
       "      <td>NaN</td>\n",
       "      <td>NaN</td>\n",
       "      <td>NaN</td>\n",
       "      <td>Stack Overflow (public Q&amp;A for anyone who codes)</td>\n",
       "      <td>NaN</td>\n",
       "      <td>Linux-based</td>\n",
       "      <td>NaN</td>\n",
       "      <td>NaN</td>\n",
       "      <td>NaN</td>\n",
       "      <td>NaN</td>\n",
       "      <td>NaN</td>\n",
       "      <td>Yes</td>\n",
       "      <td>Yes, somewhat</td>\n",
       "      <td>A few times per month or weekly</td>\n",
       "      <td>Daily or almost daily</td>\n",
       "      <td>Neither easy nor difficult</td>\n",
       "      <td>Appropriate in length</td>\n",
       "      <td>NaN</td>\n",
       "      <td>NaN</td>\n",
       "      <td>NaN</td>\n",
       "      <td>NaN</td>\n",
       "      <td>Somewhat more welcome now than last year</td>\n",
       "      <td>NaN</td>\n",
       "      <td>4</td>\n",
       "      <td>NaN</td>\n",
       "    </tr>\n",
       "    <tr>\n",
       "      <th>3</th>\n",
       "      <td>4</td>\n",
       "      <td>I am a developer by profession</td>\n",
       "      <td>Yes</td>\n",
       "      <td>25.0</td>\n",
       "      <td>18</td>\n",
       "      <td>NaN</td>\n",
       "      <td>NaN</td>\n",
       "      <td>NaN</td>\n",
       "      <td>Albania</td>\n",
       "      <td>Albanian lek</td>\n",
       "      <td>ALL</td>\n",
       "      <td>NaN</td>\n",
       "      <td>NaN</td>\n",
       "      <td>NaN</td>\n",
       "      <td>Master’s degree (M.A., M.S., M.Eng., MBA, etc.)</td>\n",
       "      <td>NaN</td>\n",
       "      <td>White or of European descent</td>\n",
       "      <td>Man</td>\n",
       "      <td>Flex time or a flexible schedule;Office environment or company culture;Opportunities for professional development</td>\n",
       "      <td>Slightly dissatisfied</td>\n",
       "      <td>I’m not actively looking, but I am open to new opportunities</td>\n",
       "      <td>NaN</td>\n",
       "      <td>NaN</td>\n",
       "      <td>NaN</td>\n",
       "      <td>NaN</td>\n",
       "      <td>NaN</td>\n",
       "      <td>NaN</td>\n",
       "      <td>No</td>\n",
       "      <td>NaN</td>\n",
       "      <td>Not at all important/not necessary</td>\n",
       "      <td>Curious about other opportunities;Wanting to work with new technologies</td>\n",
       "      <td>NaN</td>\n",
       "      <td>Once a year</td>\n",
       "      <td>Not sure</td>\n",
       "      <td>Yes</td>\n",
       "      <td>Yes</td>\n",
       "      <td>Occasionally: 1-2 days per quarter but less than monthly</td>\n",
       "      <td>NaN</td>\n",
       "      <td>NaN</td>\n",
       "      <td>Stack Overflow (public Q&amp;A for anyone who codes);Stack Exchange (public Q&amp;A for a variety of topics);Stack Overflow Jobs (for job seekers)</td>\n",
       "      <td>NaN</td>\n",
       "      <td>Linux-based</td>\n",
       "      <td>20 to 99 employees</td>\n",
       "      <td>NaN</td>\n",
       "      <td>NaN</td>\n",
       "      <td>I have a great deal of influence</td>\n",
       "      <td>Straight / Heterosexual</td>\n",
       "      <td>Yes</td>\n",
       "      <td>Yes, definitely</td>\n",
       "      <td>A few times per month or weekly</td>\n",
       "      <td>Multiple times per day</td>\n",
       "      <td>NaN</td>\n",
       "      <td>NaN</td>\n",
       "      <td>No</td>\n",
       "      <td>Computer science, computer engineering, or software engineering</td>\n",
       "      <td>NaN</td>\n",
       "      <td>NaN</td>\n",
       "      <td>Somewhat less welcome now than last year</td>\n",
       "      <td>40.0</td>\n",
       "      <td>7</td>\n",
       "      <td>4</td>\n",
       "    </tr>\n",
       "    <tr>\n",
       "      <th>4</th>\n",
       "      <td>5</td>\n",
       "      <td>I used to be a developer by profession, but no longer am</td>\n",
       "      <td>Yes</td>\n",
       "      <td>31.0</td>\n",
       "      <td>16</td>\n",
       "      <td>NaN</td>\n",
       "      <td>NaN</td>\n",
       "      <td>NaN</td>\n",
       "      <td>United States</td>\n",
       "      <td>NaN</td>\n",
       "      <td>NaN</td>\n",
       "      <td>MySQL;PostgreSQL</td>\n",
       "      <td>MySQL;PostgreSQL;Redis;SQLite</td>\n",
       "      <td>NaN</td>\n",
       "      <td>Bachelor’s degree (B.A., B.S., B.Eng., etc.)</td>\n",
       "      <td>Employed full-time</td>\n",
       "      <td>White or of European descent</td>\n",
       "      <td>Man</td>\n",
       "      <td>NaN</td>\n",
       "      <td>NaN</td>\n",
       "      <td>NaN</td>\n",
       "      <td>Java;Ruby;Scala</td>\n",
       "      <td>HTML/CSS;Ruby;SQL</td>\n",
       "      <td>Ansible;Chef</td>\n",
       "      <td>Ansible</td>\n",
       "      <td>Github;Google Suite (Docs, Meet, etc)</td>\n",
       "      <td>Confluence;Jira;Github;Slack;Google Suite (Docs, Meet, etc)</td>\n",
       "      <td>NaN</td>\n",
       "      <td>NaN</td>\n",
       "      <td>Very important</td>\n",
       "      <td>NaN</td>\n",
       "      <td>NaN</td>\n",
       "      <td>Once a year</td>\n",
       "      <td>No</td>\n",
       "      <td>NaN</td>\n",
       "      <td>Yes</td>\n",
       "      <td>NaN</td>\n",
       "      <td>Start a free trial;Ask developers I know/work with;Visit developer communities like Stack Overflow;Read ratings or reviews on third party sites like G2Crowd;Research companies that have advertised on sites I visit</td>\n",
       "      <td>Hello, old friend</td>\n",
       "      <td>Stack Overflow (public Q&amp;A for anyone who codes);Stack Exchange (public Q&amp;A for a variety of topics);Stack Overflow Jobs (for job seekers);Stack Overflow for Teams (private Q&amp;A for organizations);Stack Overflow Talent (for hiring companies/recruiters)</td>\n",
       "      <td>Call a coworker or friend;Visit Stack Overflow;Watch help / tutorial videos;Do other work and come back later;Visit another developer community (please name):</td>\n",
       "      <td>Windows</td>\n",
       "      <td>NaN</td>\n",
       "      <td>Docker;Google Cloud Platform;Heroku;Linux;Windows</td>\n",
       "      <td>AWS;Docker;Linux;MacOS;Windows</td>\n",
       "      <td>NaN</td>\n",
       "      <td>Straight / Heterosexual</td>\n",
       "      <td>Yes</td>\n",
       "      <td>Yes, somewhat</td>\n",
       "      <td>Less than once per month or monthly</td>\n",
       "      <td>A few times per month or weekly</td>\n",
       "      <td>Easy</td>\n",
       "      <td>Too short</td>\n",
       "      <td>No</td>\n",
       "      <td>Computer science, computer engineering, or software engineering</td>\n",
       "      <td>Django;Ruby on Rails</td>\n",
       "      <td>Ruby on Rails</td>\n",
       "      <td>Just as welcome now as I felt last year</td>\n",
       "      <td>NaN</td>\n",
       "      <td>15</td>\n",
       "      <td>8</td>\n",
       "    </tr>\n",
       "  </tbody>\n",
       "</table>\n",
       "</div>"
      ],
      "text/plain": [
       "   Respondent                                                MainBranch  \\\n",
       "0           1                            I am a developer by profession   \n",
       "1           2                            I am a developer by profession   \n",
       "2           3                               I code primarily as a hobby   \n",
       "3           4                            I am a developer by profession   \n",
       "4           5  I used to be a developer by profession, but no longer am   \n",
       "\n",
       "  Hobbyist   Age Age1stCode CompFreq  CompTotal  ConvertedComp  \\\n",
       "0      Yes   NaN         13  Monthly        NaN            NaN   \n",
       "1       No   NaN         19      NaN        NaN            NaN   \n",
       "2      Yes   NaN         15      NaN        NaN            NaN   \n",
       "3      Yes  25.0         18      NaN        NaN            NaN   \n",
       "4      Yes  31.0         16      NaN        NaN            NaN   \n",
       "\n",
       "              Country    CurrencyDesc CurrencySymbol DatabaseDesireNextYear  \\\n",
       "0             Germany   European Euro            EUR   Microsoft SQL Server   \n",
       "1      United Kingdom  Pound sterling            GBP                    NaN   \n",
       "2  Russian Federation             NaN            NaN                    NaN   \n",
       "3             Albania    Albanian lek            ALL                    NaN   \n",
       "4       United States             NaN            NaN       MySQL;PostgreSQL   \n",
       "\n",
       "                          DatabaseWorkedWith  \\\n",
       "0  Elasticsearch;Microsoft SQL Server;Oracle   \n",
       "1                                        NaN   \n",
       "2                                        NaN   \n",
       "3                                        NaN   \n",
       "4              MySQL;PostgreSQL;Redis;SQLite   \n",
       "\n",
       "                                                               DevType  \\\n",
       "0  Developer, desktop or enterprise applications;Developer, full-stack   \n",
       "1                              Developer, full-stack;Developer, mobile   \n",
       "2                                                                  NaN   \n",
       "3                                                                  NaN   \n",
       "4                                                                  NaN   \n",
       "\n",
       "                                           EdLevel  \\\n",
       "0  Master’s degree (M.A., M.S., M.Eng., MBA, etc.)   \n",
       "1     Bachelor’s degree (B.A., B.S., B.Eng., etc.)   \n",
       "2                                              NaN   \n",
       "3  Master’s degree (M.A., M.S., M.Eng., MBA, etc.)   \n",
       "4     Bachelor’s degree (B.A., B.S., B.Eng., etc.)   \n",
       "\n",
       "                                             Employment  \\\n",
       "0  Independent contractor, freelancer, or self-employed   \n",
       "1                                    Employed full-time   \n",
       "2                                                   NaN   \n",
       "3                                                   NaN   \n",
       "4                                    Employed full-time   \n",
       "\n",
       "                      Ethnicity Gender  \\\n",
       "0  White or of European descent    Man   \n",
       "1                           NaN    NaN   \n",
       "2                           NaN    NaN   \n",
       "3  White or of European descent    Man   \n",
       "4  White or of European descent    Man   \n",
       "\n",
       "                                                                                                                         JobFactors  \\\n",
       "0  Languages, frameworks, and other technologies I’d be working with;Remote work options;Opportunities for professional development   \n",
       "1                                                                                                                               NaN   \n",
       "2                                                                                                                               NaN   \n",
       "3                 Flex time or a flexible schedule;Office environment or company culture;Opportunities for professional development   \n",
       "4                                                                                                                               NaN   \n",
       "\n",
       "                  JobSat  \\\n",
       "0     Slightly satisfied   \n",
       "1      Very dissatisfied   \n",
       "2                    NaN   \n",
       "3  Slightly dissatisfied   \n",
       "4                    NaN   \n",
       "\n",
       "                                                        JobSeek  \\\n",
       "0                  I am not interested in new job opportunities   \n",
       "1                  I am not interested in new job opportunities   \n",
       "2                                                           NaN   \n",
       "3  I’m not actively looking, but I am open to new opportunities   \n",
       "4                                                           NaN   \n",
       "\n",
       "     LanguageDesireNextYear        LanguageWorkedWith  \\\n",
       "0    C#;HTML/CSS;JavaScript    C#;HTML/CSS;JavaScript   \n",
       "1              Python;Swift          JavaScript;Swift   \n",
       "2  Objective-C;Python;Swift  Objective-C;Python;Swift   \n",
       "3                       NaN                       NaN   \n",
       "4           Java;Ruby;Scala         HTML/CSS;Ruby;SQL   \n",
       "\n",
       "             MiscTechDesireNextYear MiscTechWorkedWith  \\\n",
       "0                 .NET Core;Xamarin     .NET;.NET Core   \n",
       "1  React Native;TensorFlow;Unity 3D       React Native   \n",
       "2                               NaN                NaN   \n",
       "3                               NaN                NaN   \n",
       "4                      Ansible;Chef            Ansible   \n",
       "\n",
       "             NEWCollabToolsDesireNextYear  \\\n",
       "0  Microsoft Teams;Microsoft Azure;Trello   \n",
       "1                            Github;Slack   \n",
       "2                                     NaN   \n",
       "3                                     NaN   \n",
       "4   Github;Google Suite (Docs, Meet, etc)   \n",
       "\n",
       "                                      NEWCollabToolsWorkedWith NEWDevOps  \\\n",
       "0                 Confluence;Jira;Slack;Microsoft Azure;Trello        No   \n",
       "1                          Confluence;Jira;Github;Gitlab;Slack       NaN   \n",
       "2                                                          NaN       NaN   \n",
       "3                                                          NaN        No   \n",
       "4  Confluence;Jira;Github;Slack;Google Suite (Docs, Meet, etc)       NaN   \n",
       "\n",
       "        NEWDevOpsImpt                           NEWEdImpt  \\\n",
       "0  Somewhat important                    Fairly important   \n",
       "1                 NaN                    Fairly important   \n",
       "2                 NaN                                 NaN   \n",
       "3                 NaN  Not at all important/not necessary   \n",
       "4                 NaN                      Very important   \n",
       "\n",
       "                                                                NEWJobHunt  \\\n",
       "0                                                                      NaN   \n",
       "1                                                                      NaN   \n",
       "2                                                                      NaN   \n",
       "3  Curious about other opportunities;Wanting to work with new technologies   \n",
       "4                                                                      NaN   \n",
       "\n",
       "  NEWJobHuntResearch       NEWLearn NEWOffTopic NEWOnboardGood NEWOtherComms  \\\n",
       "0                NaN    Once a year    Not sure            NaN            No   \n",
       "1                NaN    Once a year    Not sure            NaN            No   \n",
       "2                NaN  Once a decade         NaN            NaN            No   \n",
       "3                NaN    Once a year    Not sure            Yes           Yes   \n",
       "4                NaN    Once a year          No            NaN           Yes   \n",
       "\n",
       "                                                NEWOvertime  \\\n",
       "0                          Often: 1-2 days per week or more   \n",
       "1                                                       NaN   \n",
       "2                                                       NaN   \n",
       "3  Occasionally: 1-2 days per quarter but less than monthly   \n",
       "4                                                       NaN   \n",
       "\n",
       "                                                                                                                                                                                                     NEWPurchaseResearch  \\\n",
       "0                                                                                                                                                                     Start a free trial;Ask developers I know/work with   \n",
       "1                                                                                                                                                                                                                    NaN   \n",
       "2                                                                                                                                                                                                                    NaN   \n",
       "3                                                                                                                                                                                                                    NaN   \n",
       "4  Start a free trial;Ask developers I know/work with;Visit developer communities like Stack Overflow;Read ratings or reviews on third party sites like G2Crowd;Research companies that have advertised on sites I visit   \n",
       "\n",
       "       NEWPurpleLink  \\\n",
       "0             Amused   \n",
       "1             Amused   \n",
       "2                NaN   \n",
       "3                NaN   \n",
       "4  Hello, old friend   \n",
       "\n",
       "                                                                                                                                                                                                                                                    NEWSOSites  \\\n",
       "0                                                                                                                                                                                                             Stack Overflow (public Q&A for anyone who codes)   \n",
       "1                                                                                                                   Stack Overflow (public Q&A for anyone who codes);Stack Exchange (public Q&A for a variety of topics);Stack Overflow Jobs (for job seekers)   \n",
       "2                                                                                                                                                                                                             Stack Overflow (public Q&A for anyone who codes)   \n",
       "3                                                                                                                   Stack Overflow (public Q&A for anyone who codes);Stack Exchange (public Q&A for a variety of topics);Stack Overflow Jobs (for job seekers)   \n",
       "4  Stack Overflow (public Q&A for anyone who codes);Stack Exchange (public Q&A for a variety of topics);Stack Overflow Jobs (for job seekers);Stack Overflow for Teams (private Q&A for organizations);Stack Overflow Talent (for hiring companies/recruiters)   \n",
       "\n",
       "                                                                                                                                                         NEWStuck  \\\n",
       "0                                                                 Visit Stack Overflow;Go for a walk or other physical activity;Do other work and come back later   \n",
       "1                                                                                                   Visit Stack Overflow;Go for a walk or other physical activity   \n",
       "2                                                                                                                                                             NaN   \n",
       "3                                                                                                                                                             NaN   \n",
       "4  Call a coworker or friend;Visit Stack Overflow;Watch help / tutorial videos;Do other work and come back later;Visit another developer community (please name):   \n",
       "\n",
       "         OpSys                   OrgSize  \\\n",
       "0      Windows          2 to 9 employees   \n",
       "1        MacOS  1,000 to 4,999 employees   \n",
       "2  Linux-based                       NaN   \n",
       "3  Linux-based        20 to 99 employees   \n",
       "4      Windows                       NaN   \n",
       "\n",
       "                              PlatformDesireNextYear  \\\n",
       "0     Android;iOS;Kubernetes;Microsoft Azure;Windows   \n",
       "1                         iOS;Kubernetes;Linux;MacOS   \n",
       "2                                                NaN   \n",
       "3                                                NaN   \n",
       "4  Docker;Google Cloud Platform;Heroku;Linux;Windows   \n",
       "\n",
       "               PlatformWorkedWith                      PurchaseWhat  \\\n",
       "0                         Windows                               NaN   \n",
       "1                             iOS     I have little or no influence   \n",
       "2                             NaN                               NaN   \n",
       "3                             NaN  I have a great deal of influence   \n",
       "4  AWS;Docker;Linux;MacOS;Windows                               NaN   \n",
       "\n",
       "                 Sexuality SOAccount           SOComm  \\\n",
       "0  Straight / Heterosexual        No   No, not at all   \n",
       "1                      NaN       Yes  Yes, definitely   \n",
       "2                      NaN       Yes    Yes, somewhat   \n",
       "3  Straight / Heterosexual       Yes  Yes, definitely   \n",
       "4  Straight / Heterosexual       Yes    Yes, somewhat   \n",
       "\n",
       "                            SOPartFreq                      SOVisitFreq  \\\n",
       "0                                  NaN           Multiple times per day   \n",
       "1  Less than once per month or monthly           Multiple times per day   \n",
       "2      A few times per month or weekly            Daily or almost daily   \n",
       "3      A few times per month or weekly           Multiple times per day   \n",
       "4  Less than once per month or monthly  A few times per month or weekly   \n",
       "\n",
       "                   SurveyEase           SurveyLength Trans  \\\n",
       "0  Neither easy nor difficult  Appropriate in length    No   \n",
       "1                         NaN                    NaN   NaN   \n",
       "2  Neither easy nor difficult  Appropriate in length   NaN   \n",
       "3                         NaN                    NaN    No   \n",
       "4                        Easy              Too short    No   \n",
       "\n",
       "                                                    UndergradMajor  \\\n",
       "0  Computer science, computer engineering, or software engineering   \n",
       "1  Computer science, computer engineering, or software engineering   \n",
       "2                                                              NaN   \n",
       "3  Computer science, computer engineering, or software engineering   \n",
       "4  Computer science, computer engineering, or software engineering   \n",
       "\n",
       "  WebframeDesireNextYear    WebframeWorkedWith  \\\n",
       "0           ASP.NET Core  ASP.NET;ASP.NET Core   \n",
       "1                    NaN                   NaN   \n",
       "2                    NaN                   NaN   \n",
       "3                    NaN                   NaN   \n",
       "4   Django;Ruby on Rails         Ruby on Rails   \n",
       "\n",
       "                              WelcomeChange  WorkWeekHrs YearsCode  \\\n",
       "0   Just as welcome now as I felt last year         50.0        36   \n",
       "1  Somewhat more welcome now than last year          NaN         7   \n",
       "2  Somewhat more welcome now than last year          NaN         4   \n",
       "3  Somewhat less welcome now than last year         40.0         7   \n",
       "4   Just as welcome now as I felt last year          NaN        15   \n",
       "\n",
       "  YearsCodePro  \n",
       "0           27  \n",
       "1            4  \n",
       "2          NaN  \n",
       "3            4  \n",
       "4            8  "
      ]
     },
     "execution_count": 142,
     "metadata": {},
     "output_type": "execute_result"
    }
   ],
   "source": [
    "df_20.head()"
   ]
  },
  {
   "cell_type": "markdown",
   "id": "0af03354-b99c-4199-8107-8d2cf27f09ca",
   "metadata": {},
   "source": [
    "## 2. Exploratory data analysis"
   ]
  },
  {
   "cell_type": "markdown",
   "id": "ec6e3216-dad9-44ff-b4d6-47c1f1218fa3",
   "metadata": {},
   "source": [
    "Questions:\n",
    "\n",
    "1. How many caffeinated beverages per day?\n",
    "2. Tabs or spaces? (2015 and 2017)\n",
    "3. How much do you agree or disagree with the following statement? I want to go to Mars right now, even if there's a chance I never come back.\n",
    "4. Star Wars or Star Trek?\n",
    "5. Dogs or cats?\n",
    "6. Do you believe in aliens?\n",
    "7. How do you pronouce \"GIF\"?\n",
    "8. Are you the \"IT support person\" for your family?"
   ]
  },
  {
   "cell_type": "markdown",
   "id": "cd997530-19f8-4bed-a5f6-349549576cae",
   "metadata": {},
   "source": [
    "### 2.1. Selecting responses series"
   ]
  },
  {
   "cell_type": "code",
   "execution_count": 182,
   "id": "eb022e24-11d0-42d9-8df7-9bb2a1584d77",
   "metadata": {},
   "outputs": [
    {
     "data": {
      "text/plain": [
       "0               3916\n",
       "2               3587\n",
       "1               2844\n",
       "3               2492\n",
       "4               1535\n",
       "5               1099\n",
       "6                456\n",
       "More than 10     219\n",
       "8                170\n",
       "7                154\n",
       "9                 38\n",
       "Name: How many caffeinated beverages per day?, dtype: int64"
      ]
     },
     "execution_count": 182,
     "metadata": {},
     "output_type": "execute_result"
    }
   ],
   "source": [
    "# How many caffeinated beverages per day?\n",
    "q1 = df_15['How many caffeinated beverages per day?'].value_counts()\n",
    "q1"
   ]
  },
  {
   "cell_type": "code",
   "execution_count": 183,
   "id": "15520417-80e0-4f3f-af50-af805eb7cb8f",
   "metadata": {},
   "outputs": [
    {
     "data": {
      "text/plain": [
       "Tabs          11604\n",
       "Spaces         8663\n",
       "It depends     4391\n",
       "Huh?           1149\n",
       "Name: Tabs or Spaces, dtype: int64"
      ]
     },
     "execution_count": 183,
     "metadata": {},
     "output_type": "execute_result"
    }
   ],
   "source": [
    "# Tabs or spaces?\n",
    "q2_15 = df_15['Tabs or Spaces'].value_counts()\n",
    "q2_15"
   ]
  },
  {
   "cell_type": "code",
   "execution_count": 184,
   "id": "53335e48-3ec8-4cba-8435-e2b7b30b68cd",
   "metadata": {},
   "outputs": [
    {
     "data": {
      "text/plain": [
       "Tabs      16682\n",
       "Spaces    14667\n",
       "Both       7502\n",
       "Name: TabsSpaces, dtype: int64"
      ]
     },
     "execution_count": 184,
     "metadata": {},
     "output_type": "execute_result"
    }
   ],
   "source": [
    "# Tabs or spaces?\n",
    "q2_17 = df_17['TabsSpaces'].value_counts()\n",
    "q2_17"
   ]
  },
  {
   "cell_type": "code",
   "execution_count": 185,
   "id": "b7c9daa4-ad4f-4e91-9b16-843b88f30c72",
   "metadata": {},
   "outputs": [
    {
     "data": {
      "text/plain": [
       "Disagree completely    21567\n",
       "Disagree somewhat       6463\n",
       "Neutral                 5217\n",
       "Agree completely        4977\n",
       "Agree somewhat          4461\n",
       "Name: agree_mars, dtype: int64"
      ]
     },
     "execution_count": 185,
     "metadata": {},
     "output_type": "execute_result"
    }
   ],
   "source": [
    "# How much do you agree or disagree with the following statement?\n",
    "# I want to go to Mars right now, even if there's a chance I never come back.\n",
    "q3 = df_16['agree_mars'].value_counts()\n",
    "q3"
   ]
  },
  {
   "cell_type": "code",
   "execution_count": 186,
   "id": "1d67ea6a-f920-42ba-bec1-6fc979e37e06",
   "metadata": {},
   "outputs": [
    {
     "data": {
      "text/plain": [
       "Star Wars               22410\n",
       "Star Trek                8148\n",
       "Star Wars; Star Trek     3840\n",
       "Name: star_wars_vs_star_trek, dtype: int64"
      ]
     },
     "execution_count": 186,
     "metadata": {},
     "output_type": "execute_result"
    }
   ],
   "source": [
    "# Star Wars or Star Trek?\n",
    "q4 = df_16['star_wars_vs_star_trek'].value_counts()\n",
    "q4"
   ]
  },
  {
   "cell_type": "code",
   "execution_count": 187,
   "id": "d111feb9-b526-4d66-a1b1-3cb0f4a337eb",
   "metadata": {},
   "outputs": [
    {
     "data": {
      "text/plain": [
       "Dogs                      22101\n",
       "Cats                      15740\n",
       "Other (please specify)     7398\n",
       "Name: dogs_vs_cats, dtype: int64"
      ]
     },
     "execution_count": 187,
     "metadata": {},
     "output_type": "execute_result"
    }
   ],
   "source": [
    "# Dogs or cats?\n",
    "q5 = df_16['dogs_vs_cats'].value_counts()\n",
    "q5"
   ]
  },
  {
   "cell_type": "code",
   "execution_count": 188,
   "id": "63feaadc-5375-432b-9f21-194fc543f72f",
   "metadata": {},
   "outputs": [
    {
     "data": {
      "text/plain": [
       "Yes                       25742\n",
       "No                        17243\n",
       "Other (please specify)     6192\n",
       "Name: aliens, dtype: int64"
      ]
     },
     "execution_count": 188,
     "metadata": {},
     "output_type": "execute_result"
    }
   ],
   "source": [
    "# Do you believe in aliens?\n",
    "q6 = df_16['aliens'].value_counts()\n",
    "q6"
   ]
  },
  {
   "cell_type": "code",
   "execution_count": 189,
   "id": "6227c7f7-0a99-4757-9966-e363b68f2ba0",
   "metadata": {},
   "outputs": [
    {
     "data": {
      "text/plain": [
       "With a hard \"g,\" like \"gift\"              33484\n",
       "With a soft \"g,\" like \"jiff\"              13408\n",
       "Enunciating each letter: \"gee eye eff\"     3085\n",
       "Some other way                             1031\n",
       "Name: PronounceGIF, dtype: int64"
      ]
     },
     "execution_count": 189,
     "metadata": {},
     "output_type": "execute_result"
    }
   ],
   "source": [
    "# How do you pronouce \"GIF\"?\n",
    "q7 = df_17['PronounceGIF'].value_counts()\n",
    "q7"
   ]
  },
  {
   "cell_type": "code",
   "execution_count": 190,
   "id": "eebf7026-fa46-47ed-9da0-6c96be8dccab",
   "metadata": {},
   "outputs": [
    {
     "data": {
      "text/plain": [
       "Yes                                         46370\n",
       "SIGH                                        21819\n",
       "Also Yes                                    12313\n",
       "Fortunately, someone else has that title     6639\n",
       "Name: ITperson, dtype: int64"
      ]
     },
     "execution_count": 190,
     "metadata": {},
     "output_type": "execute_result"
    }
   ],
   "source": [
    "# Are you the \"IT support person\" for your family?\n",
    "q8 = df_19['ITperson'].value_counts()\n",
    "q8"
   ]
  },
  {
   "cell_type": "markdown",
   "id": "cfda5ce5-ceb9-43f1-81bd-739a0b4b0dd3",
   "metadata": {},
   "source": [
    "### 2.2. Adjusting series to plot"
   ]
  },
  {
   "cell_type": "code",
   "execution_count": 192,
   "id": "50851fe4-be29-4258-88ff-4e834656cc37",
   "metadata": {},
   "outputs": [],
   "source": [
    "# Removing items\n",
    "q2_15.drop(labels=['Huh?'], inplace=True)"
   ]
  },
  {
   "cell_type": "code",
   "execution_count": 193,
   "id": "d506a951-b026-472b-8f3f-8540cb0f43c0",
   "metadata": {},
   "outputs": [],
   "source": [
    "# Adjusting the labels\n",
    "q2_15.rename({'It depends': 'Both'}, inplace=True)\n",
    "q4.rename({'Star Wars; Star Trek': 'Both'}, inplace=True)\n",
    "q5.rename({'Other (please specify)': 'Other'}, inplace=True)\n",
    "q6.rename({'Other (please specify)': 'Other'}, inplace=True)\n",
    "q8.rename({'SIGH': 'Sigh'}, inplace=True)"
   ]
  },
  {
   "cell_type": "code",
   "execution_count": 194,
   "id": "ec630348-6238-447f-8f71-dffc7197dde0",
   "metadata": {},
   "outputs": [],
   "source": [
    "# Adjusting the orders\n",
    "q1 = q1.reindex(['0', '1', '2', '3', '4', '5', '6', '7', '8', '9', 'More than 10'])\n",
    "q8 = q8.reindex(['Yes', 'Also Yes', 'Sigh', 'Fortunately, someone else has that title'])"
   ]
  },
  {
   "cell_type": "markdown",
   "id": "8eba8cdb-2443-43e8-81c7-b8b55392532d",
   "metadata": {},
   "source": [
    "### 2.3. Separating series into values and labels"
   ]
  },
  {
   "cell_type": "code",
   "execution_count": 197,
   "id": "3be896c4-1c6f-4fbe-a7d0-166ec1738e0a",
   "metadata": {},
   "outputs": [],
   "source": [
    "q1_x = q1.index.tolist()\n",
    "q1_y = q1.to_list()\n",
    "\n",
    "q3_x = q3.index.tolist()\n",
    "q3_y = q3.to_list()\n",
    "\n",
    "q4_x = q4.index.tolist()\n",
    "q4_y = q4.to_list()\n",
    "\n",
    "q5_x = q5.index.tolist()\n",
    "q5_y = q5.to_list()\n",
    "\n",
    "q6_x = q6.index.tolist()\n",
    "q6_y = q6.to_list()\n",
    "\n",
    "q7_x = q7.index.tolist()\n",
    "q7_y = q7.to_list()\n",
    "\n",
    "q8_x = q8.index.tolist()\n",
    "q8_y = q8.to_list()"
   ]
  },
  {
   "cell_type": "code",
   "execution_count": 200,
   "id": "55777240-a13c-40d0-af90-78cf04d9d3c7",
   "metadata": {},
   "outputs": [],
   "source": [
    "q2_15.rename('2015', inplace=True)\n",
    "q2_17.rename('2017', inplace=True)\n",
    "\n",
    "df_q2 = pd.concat([q2_15, q2_17], axis=1)\n",
    "\n",
    "q2_t = df_q2.loc['Tabs'].tolist()\n",
    "q2_s = df_q2.loc['Spaces'].tolist()\n",
    "q2_b = df_q2.loc['Both'].tolist()"
   ]
  },
  {
   "cell_type": "code",
   "execution_count": 201,
   "id": "8810f14d-5732-49fe-8d17-d725954d5779",
   "metadata": {},
   "outputs": [],
   "source": [
    "np_abs_q2_t = np.array(q2_t)\n",
    "np_abs_q2_s = np.array(q2_s)\n",
    "np_abs_q2_b = np.array(q2_b)\n",
    "\n",
    "total = np.sum([np_abs_q2_t, np_abs_q2_s, np_abs_q2_b], axis=0)\n",
    "\n",
    "perc_q2_t = list(np_abs_q2_t / total * 100)\n",
    "perc_q2_s = list(np_abs_q2_s / total * 100)\n",
    "perc_q2_b = list(np_abs_q2_b / total * 100)\n",
    "\n",
    "q2_y = df_q2.columns.tolist()"
   ]
  },
  {
   "cell_type": "markdown",
   "id": "af3e45c8-9a2e-4620-b8c2-336f6163d6f0",
   "metadata": {},
   "source": [
    "### 2.4. Getting additional information"
   ]
  },
  {
   "cell_type": "code",
   "execution_count": 195,
   "id": "5940f07e-a84f-451b-bfcb-b547b69e5284",
   "metadata": {},
   "outputs": [],
   "source": [
    "surveys = [df_11, df_12, df_13, df_14, df_15, df_16, df_17, df_18, df_19, df_20]\n",
    "respondents = []\n",
    "\n",
    "for survey in surveys:\n",
    "    rows = survey.shape[0]\n",
    "    respondents.append(rows)\n",
    "\n",
    "years = list(range(2011, 2021))"
   ]
  },
  {
   "cell_type": "markdown",
   "id": "c39452c7-42f2-481d-9a13-9593ab023951",
   "metadata": {},
   "source": [
    "## 3. Ploting the charts"
   ]
  },
  {
   "cell_type": "code",
   "execution_count": 196,
   "id": "19f467b9-0435-4c00-b37b-27f21914856d",
   "metadata": {},
   "outputs": [
    {
     "data": {
      "image/png": "[encoded data removed]",
      "text/plain": [
       "<Figure size 432x288 with 1 Axes>"
      ]
     },
     "metadata": {
      "image/png": {
       "height": 280,
       "width": 424
      },
      "needs_background": "light"
     },
     "output_type": "display_data"
    }
   ],
   "source": [
    "plt.plot(years, respondents)\n",
    "plt.tight_layout(h_pad=4, w_pad=4)\n",
    "plt.show();"
   ]
  },
  {
   "cell_type": "code",
   "execution_count": 205,
   "id": "317e3c1c-63ef-4e12-90f0-1274e1d807be",
   "metadata": {},
   "outputs": [
    {
     "data": {
      "image/png": "[encoded data removed]",
      "text/plain": [
       "<Figure size 432x288 with 1 Axes>"
      ]
     },
     "metadata": {
      "image/png": {
       "height": 280,
       "width": 422
      },
      "needs_background": "light"
     },
     "output_type": "display_data"
    }
   ],
   "source": [
    "plt.bar(q1_x, q1_y)\n",
    "plt.tight_layout(h_pad=4, w_pad=4)\n",
    "plt.show();"
   ]
  },
  {
   "cell_type": "code",
   "execution_count": 202,
   "id": "24f61ae9-b8d2-464f-8ef7-9d44d6914660",
   "metadata": {},
   "outputs": [
    {
     "data": {
      "image/png": "[encoded data removed]",
      "text/plain": [
       "<Figure size 432x288 with 1 Axes>"
      ]
     },
     "metadata": {
      "image/png": {
       "height": 280,
       "width": 424
      },
      "needs_background": "light"
     },
     "output_type": "display_data"
    }
   ],
   "source": [
    "plt.plot(q2_y, perc_q2_t)\n",
    "plt.plot(q2_y, perc_q2_s)\n",
    "plt.plot(q2_y, perc_q2_b)\n",
    "plt.tight_layout(h_pad=4, w_pad=4)\n",
    "plt.show();"
   ]
  },
  {
   "cell_type": "code",
   "execution_count": 204,
   "id": "5945259a-b27d-45c6-9241-37557b7dec97",
   "metadata": {},
   "outputs": [
    {
     "data": {
      "image/png": "[encoded data removed]",
      "text/plain": [
       "<Figure size 432x288 with 1 Axes>"
      ]
     },
     "metadata": {
      "image/png": {
       "height": 280,
       "width": 424
      },
      "needs_background": "light"
     },
     "output_type": "display_data"
    }
   ],
   "source": [
    "plt.bar(q4_x, q4_y)\n",
    "plt.tight_layout(h_pad=4, w_pad=4)\n",
    "plt.show();"
   ]
  },
  {
   "cell_type": "code",
   "execution_count": 203,
   "id": "4b46b409-0ff8-4073-8eaf-1f6cd9a3b889",
   "metadata": {},
   "outputs": [
    {
     "data": {
      "image/png": "[encoded data removed]",
      "text/plain": [
       "<Figure size 432x288 with 1 Axes>"
      ]
     },
     "metadata": {
      "image/png": {
       "height": 280,
       "width": 424
      },
      "needs_background": "light"
     },
     "output_type": "display_data"
    }
   ],
   "source": [
    "plt.bar(q5_x, q5_y)\n",
    "plt.tight_layout(h_pad=4, w_pad=4)\n",
    "plt.show();"
   ]
  },
  {
   "cell_type": "code",
   "execution_count": 207,
   "id": "c0d2486d-6a7d-4227-950b-768d83c376d9",
   "metadata": {},
   "outputs": [
    {
     "data": {
      "image/png": "[encoded data removed]",
      "text/plain": [
       "<Figure size 432x288 with 1 Axes>"
      ]
     },
     "metadata": {
      "image/png": {
       "height": 280,
       "width": 424
      },
      "needs_background": "light"
     },
     "output_type": "display_data"
    }
   ],
   "source": [
    "plt.bar(q6_x, q6_y)\n",
    "plt.tight_layout(h_pad=4, w_pad=4)\n",
    "plt.show();"
   ]
  },
  {
   "cell_type": "code",
   "execution_count": 199,
   "id": "2a4e0e7f-bb2c-4b99-972f-614645a7551e",
   "metadata": {},
   "outputs": [
    {
     "data": {
      "image/png": "[encoded data removed]",
      "text/plain": [
       "<Figure size 432x288 with 1 Axes>"
      ]
     },
     "metadata": {
      "image/png": {
       "height": 280,
       "width": 410
      },
      "needs_background": "light"
     },
     "output_type": "display_data"
    }
   ],
   "source": [
    "plt.barh(q7_x, q7_y)\n",
    "plt.tight_layout(h_pad=4, w_pad=4)\n",
    "plt.show();"
   ]
  },
  {
   "cell_type": "code",
   "execution_count": 198,
   "id": "0b74c26e-b909-4dc6-b6ae-b7d050ae0594",
   "metadata": {},
   "outputs": [
    {
     "data": {
      "image/png": "[encoded data removed]",
      "text/plain": [
       "<Figure size 432x288 with 1 Axes>"
      ]
     },
     "metadata": {
      "image/png": {
       "height": 280,
       "width": 426
      },
      "needs_background": "light"
     },
     "output_type": "display_data"
    }
   ],
   "source": [
    "plt.barh(q8_x, q8_y)\n",
    "plt.tight_layout(h_pad=4, w_pad=4)\n",
    "plt.show();"
   ]
  }
 ],
 "metadata": {
  "kernelspec": {
   "display_name": "Python 3",
   "language": "python",
   "name": "python3"
  },
  "language_info": {
   "codemirror_mode": {
    "name": "ipython",
    "version": 3
   },
   "file_extension": ".py",
   "mimetype": "text/x-python",
   "name": "python",
   "nbconvert_exporter": "python",
   "pygments_lexer": "ipython3",
   "version": "3.7.10"
  }
 },
 "nbformat": 4,
 "nbformat_minor": 5
}
